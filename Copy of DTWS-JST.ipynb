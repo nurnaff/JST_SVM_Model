{
 "cells": [
  {
   "cell_type": "code",
   "execution_count": 1,
   "metadata": {
    "colab": {
     "base_uri": "https://localhost:8080/",
     "height": 83
    },
    "colab_type": "code",
    "executionInfo": {
     "elapsed": 3176,
     "status": "ok",
     "timestamp": 1584153330666,
     "user": {
      "displayName": "Rian Adam Rajagede",
      "photoUrl": "https://lh3.googleusercontent.com/a-/AOh14GgYqB7xQm_CG2t3z2Eu3zLSQJUhqKZB6AHdQBYJ=s64",
      "userId": "04413394538171612287"
     },
     "user_tz": -420
    },
    "id": "qC_VL6_kbhMF",
    "outputId": "508fd88f-f027-4742-866f-d25a8c848c31"
   },
   "outputs": [
    {
     "name": "stdout",
     "output_type": "stream",
     "text": [
      "1.15.0\n"
     ]
    }
   ],
   "source": [
    "import tensorflow as tf\n",
    "from tensorflow import keras\n",
    "from tensorflow.keras.layers import Dense, Flatten\n",
    "import numpy as np\n",
    "import matplotlib.pyplot as plt\n",
    "\n",
    "print(tf.__version__)"
   ]
  },
  {
   "cell_type": "markdown",
   "metadata": {
    "colab_type": "text",
    "id": "2ALle1VvQ2u1"
   },
   "source": [
    "# Get The Dataset\n",
    "Dataset di download dari repository Google.\n",
    "- Variabel `train_images` merupakan numpy array yang menyimpan data latih. Data latih terdiri dari 60,000 citra hitam putih berukuran 28x28.\n",
    "- Variabel `test_images` merupakan numpy array yang menyimpan data uji. Data uji terdiri dari 10,000 citra hitam putih berukuran 28x28.\n"
   ]
  },
  {
   "cell_type": "code",
   "execution_count": 2,
   "metadata": {
    "colab": {
     "base_uri": "https://localhost:8080/",
     "height": 54
    },
    "colab_type": "code",
    "executionInfo": {
     "elapsed": 4061,
     "status": "ok",
     "timestamp": 1584153331575,
     "user": {
      "displayName": "Rian Adam Rajagede",
      "photoUrl": "https://lh3.googleusercontent.com/a-/AOh14GgYqB7xQm_CG2t3z2Eu3zLSQJUhqKZB6AHdQBYJ=s64",
      "userId": "04413394538171612287"
     },
     "user_tz": -420
    },
    "id": "dl3dLqxibo-W",
    "outputId": "fa04e1a8-5448-498b-d012-a3bb193c02b6"
   },
   "outputs": [],
   "source": [
    "(train_images, train_labels), (test_images, test_labels) = keras.datasets.mnist.load_data()"
   ]
  },
  {
   "cell_type": "code",
   "execution_count": 3,
   "metadata": {
    "colab": {
     "base_uri": "https://localhost:8080/",
     "height": 127
    },
    "colab_type": "code",
    "executionInfo": {
     "elapsed": 2163,
     "status": "ok",
     "timestamp": 1584153363319,
     "user": {
      "displayName": "Rian Adam Rajagede",
      "photoUrl": "https://lh3.googleusercontent.com/a-/AOh14GgYqB7xQm_CG2t3z2Eu3zLSQJUhqKZB6AHdQBYJ=s64",
      "userId": "04413394538171612287"
     },
     "user_tz": -420
    },
    "id": "6f_HagwiQZAW",
    "outputId": "f1173f63-b7b0-4f50-8382-31019bbbb39b"
   },
   "outputs": [
    {
     "name": "stdout",
     "output_type": "stream",
     "text": [
      "<class 'numpy.ndarray'>\n",
      "(60000, 28, 28)\n",
      "(60000,)\n",
      "<class 'numpy.ndarray'>\n",
      "(10000, 28, 28)\n",
      "(10000,)\n"
     ]
    }
   ],
   "source": [
    "print(type(train_images))\n",
    "print(train_images.shape)\n",
    "print(train_labels.shape)\n",
    "\n",
    "print(type(test_images))\n",
    "print(test_images.shape)\n",
    "print(test_labels.shape)"
   ]
  },
  {
   "cell_type": "markdown",
   "metadata": {
    "colab_type": "text",
    "id": "JGBi3zm1RtF-"
   },
   "source": [
    "# Lihat Dataset\n",
    "program di bawah menampilkan dataset pertama (`train_images[0]`). Tampak data citra memiliki nilai pada rentangan antara 0-255."
   ]
  },
  {
   "cell_type": "code",
   "execution_count": 4,
   "metadata": {
    "colab": {
     "base_uri": "https://localhost:8080/",
     "height": 283
    },
    "colab_type": "code",
    "executionInfo": {
     "elapsed": 1883,
     "status": "ok",
     "timestamp": 1584153486894,
     "user": {
      "displayName": "Rian Adam Rajagede",
      "photoUrl": "https://lh3.googleusercontent.com/a-/AOh14GgYqB7xQm_CG2t3z2Eu3zLSQJUhqKZB6AHdQBYJ=s64",
      "userId": "04413394538171612287"
     },
     "user_tz": -420
    },
    "id": "iIMQY8JdQc_E",
    "outputId": "74f28ea7-5602-44b1-ea94-7adc0e55cf55"
   },
   "outputs": [
    {
     "data": {
      "image/png": "[encoded data removed]",
      "text/plain": [
       "<Figure size 432x288 with 2 Axes>"
      ]
     },
     "metadata": {
      "needs_background": "light"
     },
     "output_type": "display_data"
    },
    {
     "name": "stdout",
     "output_type": "stream",
     "text": [
      "Label: 5\n"
     ]
    }
   ],
   "source": [
    "plt.figure()\n",
    "plt.imshow(train_images[0], cmap=\"gray\")\n",
    "plt.colorbar()\n",
    "plt.show()\n",
    "\n",
    "print(\"Label:\",train_labels[0])"
   ]
  },
  {
   "cell_type": "markdown",
   "metadata": {
    "colab_type": "text",
    "id": "uRiuxgfFv_hT"
   },
   "source": [
    "# Membuat model Jaringan Saraf Tiruan\n",
    "\n",
    "Model JST yang dibuat menggunakan framework keras dengan spesifikasi:\n",
    "- 1 buah hidden layer dengan 128 neuron\n",
    "- neuron menggunakan fungsi aktivasi ReLU"
   ]
  },
  {
   "cell_type": "code",
   "execution_count": 5,
   "metadata": {
    "colab": {},
    "colab_type": "code",
    "id": "acHoACe9v_gJ"
   },
   "outputs": [
    {
     "name": "stdout",
     "output_type": "stream",
     "text": [
      "WARNING:tensorflow:From C:\\Users\\AndiNurnaf\\Anaconda3\\lib\\site-packages\\tensorflow_core\\python\\ops\\resource_variable_ops.py:1630: calling BaseResourceVariable.__init__ (from tensorflow.python.ops.resource_variable_ops) with constraint is deprecated and will be removed in a future version.\n",
      "Instructions for updating:\n",
      "If using Keras pass *_constraint arguments to layers.\n"
     ]
    }
   ],
   "source": [
    "model = keras.Sequential([\n",
    "    Flatten(input_shape=(28, 28)),\n",
    "    Dense(128, activation='relu'),\n",
    "    Dense(10, activation='softmax')\n",
    "])"
   ]
  },
  {
   "cell_type": "code",
   "execution_count": 9,
   "metadata": {},
   "outputs": [
    {
     "name": "stdout",
     "output_type": "stream",
     "text": [
      "Model: \"sequential\"\n",
      "_________________________________________________________________\n",
      "Layer (type)                 Output Shape              Param #   \n",
      "=================================================================\n",
      "flatten (Flatten)            (None, 784)               0         \n",
      "_________________________________________________________________\n",
      "dense (Dense)                (None, 128)               100480    \n",
      "_________________________________________________________________\n",
      "dense_1 (Dense)              (None, 10)                1290      \n",
      "=================================================================\n",
      "Total params: 101,770\n",
      "Trainable params: 101,770\n",
      "Non-trainable params: 0\n",
      "_________________________________________________________________\n"
     ]
    }
   ],
   "source": [
    "model.summary()"
   ]
  },
  {
   "cell_type": "code",
   "execution_count": 6,
   "metadata": {
    "colab": {},
    "colab_type": "code",
    "id": "t5eiglZYT6eY"
   },
   "outputs": [],
   "source": [
    "model.compile(optimizer=keras.optimizers.SGD(learning_rate=0.001),\n",
    "              loss=keras.losses.SparseCategoricalCrossentropy(),\n",
    "              metrics=['accuracy'])"
   ]
  },
  {
   "cell_type": "markdown",
   "metadata": {
    "colab_type": "text",
    "id": "jgrUZt-LW3Y6"
   },
   "source": [
    "# Mulai Pelatihan"
   ]
  },
  {
   "cell_type": "code",
   "execution_count": 7,
   "metadata": {
    "colab": {
     "base_uri": "https://localhost:8080/",
     "height": 421
    },
    "colab_type": "code",
    "executionInfo": {
     "elapsed": 40436,
     "status": "ok",
     "timestamp": 1584154072368,
     "user": {
      "displayName": "Rian Adam Rajagede",
      "photoUrl": "https://lh3.googleusercontent.com/a-/AOh14GgYqB7xQm_CG2t3z2Eu3zLSQJUhqKZB6AHdQBYJ=s64",
      "userId": "04413394538171612287"
     },
     "user_tz": -420
    },
    "id": "auvPeLA8UTi_",
    "outputId": "ac401859-7d32-4a76-f51c-5d9318144103"
   },
   "outputs": [
    {
     "name": "stdout",
     "output_type": "stream",
     "text": [
      "Train on 60000 samples\n",
      "Epoch 1/10\n",
      "60000/60000 [==============================] - 4s 68us/sample - loss: 1.5097 - acc: 0.8009\n",
      "Epoch 2/10\n",
      "60000/60000 [==============================] - 5s 76us/sample - loss: 0.4047 - acc: 0.8948\n",
      "Epoch 3/10\n",
      "60000/60000 [==============================] - 4s 66us/sample - loss: 0.3073 - acc: 0.9154\n",
      "Epoch 4/10\n",
      "60000/60000 [==============================] - 4s 61us/sample - loss: 0.2631 - acc: 0.9268\n",
      "Epoch 5/10\n",
      "60000/60000 [==============================] - 4s 62us/sample - loss: 0.2346 - acc: 0.9347\n",
      "Epoch 6/10\n",
      "60000/60000 [==============================] - 4s 69us/sample - loss: 0.2136 - acc: 0.9403\n",
      "Epoch 7/10\n",
      "60000/60000 [==============================] - 4s 65us/sample - loss: 0.2000 - acc: 0.9433\n",
      "Epoch 8/10\n",
      "60000/60000 [==============================] - 4s 63us/sample - loss: 0.1856 - acc: 0.9467\n",
      "Epoch 9/10\n",
      "60000/60000 [==============================] - 4s 64us/sample - loss: 0.1760 - acc: 0.9498\n",
      "Epoch 10/10\n",
      "60000/60000 [==============================] - 4s 71us/sample - loss: 0.1671 - acc: 0.9519\n"
     ]
    },
    {
     "data": {
      "text/plain": [
       "<tensorflow.python.keras.callbacks.History at 0x5530a48>"
      ]
     },
     "execution_count": 7,
     "metadata": {},
     "output_type": "execute_result"
    }
   ],
   "source": [
    "model.fit(train_images, train_labels, epochs=10)"
   ]
  },
  {
   "cell_type": "markdown",
   "metadata": {
    "colab_type": "text",
    "id": "TNnGwdB6X4hR"
   },
   "source": [
    "# Prediksi Kelas Data Test"
   ]
  },
  {
   "cell_type": "code",
   "execution_count": 8,
   "metadata": {
    "colab": {
     "base_uri": "https://localhost:8080/",
     "height": 109
    },
    "colab_type": "code",
    "executionInfo": {
     "elapsed": 42338,
     "status": "ok",
     "timestamp": 1584027432743,
     "user": {
      "displayName": "Rian Adam Rajagede",
      "photoUrl": "https://lh3.googleusercontent.com/a-/AOh14GgYqB7xQm_CG2t3z2Eu3zLSQJUhqKZB6AHdQBYJ=s64",
      "userId": "04413394538171612287"
     },
     "user_tz": -420
    },
    "id": "MZE1J_i-W5Fc",
    "outputId": "6550f34a-d8ed-457a-8f6f-66fb99730d37"
   },
   "outputs": [
    {
     "name": "stdout",
     "output_type": "stream",
     "text": [
      "Test Accuration : 94.35%\n",
      "Prediction :\n",
      "[7 2 1 ... 4 5 6]\n",
      "Label Harusnya :\n",
      "[7 2 1 ... 4 5 6]\n"
     ]
    }
   ],
   "source": [
    "classes = model.predict_classes(test_images)\n",
    "\n",
    "# Hitung akurasi = total kelas yang benar / total kelas keseluruhan * 100%\n",
    "accuration = np.sum(classes == test_labels)/len(test_labels) * 100\n",
    "\n",
    "print(\"Test Accuration : \" + str(accuration) + '%')\n",
    "print(\"Prediction :\")\n",
    "print(classes)\n",
    "print(\"Label Harusnya :\")\n",
    "print(np.asarray(test_labels))"
   ]
  },
  {
   "cell_type": "code",
   "execution_count": null,
   "metadata": {
    "colab": {},
    "colab_type": "code",
    "id": "NdcYjj-MYKHg"
   },
   "outputs": [],
   "source": []
  }
 ],
 "metadata": {
  "accelerator": "GPU",
  "colab": {
   "collapsed_sections": [],
   "name": "DTWS-JST",
   "provenance": [
    {
     "file_id": "1C6YofLUkeDjDXdTlmjR0TBD3zC93flHy",
     "timestamp": 1584027359709
    }
   ]
  },
  "kernelspec": {
   "display_name": "Python 3",
   "language": "python",
   "name": "python3"
  },
  "language_info": {
   "codemirror_mode": {
    "name": "ipython",
    "version": 3
   },
   "file_extension": ".py",
   "mimetype": "text/x-python",
   "name": "python",
   "nbconvert_exporter": "python",
   "pygments_lexer": "ipython3",
   "version": "3.7.6"
  }
 },
 "nbformat": 4,
 "nbformat_minor": 1
}
